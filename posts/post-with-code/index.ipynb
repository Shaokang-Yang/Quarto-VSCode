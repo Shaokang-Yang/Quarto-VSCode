{
  "cells": [
    {
      "cell_type": "raw",
      "metadata": {},
      "source": [
        "---\n",
        "title: \"My Document\"\n",
        "format: html\n",
        "tbl-colwidths: [75,25]\n",
        "---"
      ],
      "id": "af76c525"
    },
    {
      "cell_type": "code",
      "metadata": {},
      "source": [
        "#| label: tbl-planets\n",
        "#| tbl-cap: Astronomical object\n",
        "\n",
        "from IPython.display import Markdown\n",
        "from tabulate import tabulate\n",
        "table = [[\"Sun\",\"696,000\",1.989e30],\n",
        "         [\"Earth\",\"6,371\",5.972e24],\n",
        "         [\"Moon\",\"1,737\",7.34e22],\n",
        "         [\"Mars\",\"3,390\",6.39e23]]\n",
        "Markdown(tabulate(\n",
        "  table, \n",
        "  headers=[\"Astronomical object\",\"R (km)\", \"mass (kg)\"]\n",
        "))"
      ],
      "id": "tbl-planets",
      "execution_count": null,
      "outputs": []
    }
  ],
  "metadata": {
    "kernelspec": {
      "name": "python3",
      "language": "python",
      "display_name": "Python 3 (ipykernel)"
    }
  },
  "nbformat": 4,
  "nbformat_minor": 5
}